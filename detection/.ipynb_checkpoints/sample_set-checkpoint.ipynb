{
 "cells": [
  {
   "cell_type": "code",
   "execution_count": 162,
   "metadata": {},
   "outputs": [],
   "source": [
    "import torch\n",
    "import torch.nn.functional as F\n",
    "from torch import nn\n",
    "\n",
    "import torchvision\n",
    "from torchvision.ops import boxes as box_ops"
   ]
  },
  {
   "cell_type": "code",
   "execution_count": 97,
   "metadata": {},
   "outputs": [],
   "source": [
    "    preds = [\n",
    "        torch.FloatTensor(10, 20, 4).random_(0, 1),\n",
    "        torch.LongTensor(10, 20).random_(0, 21),\n",
    "        torch.FloatTensor(20, 4).random_(0, 201) / 200\n",
    "    ]\n",
    "\n",
    "    targets = {\n",
    "       'boxes': torch.FloatTensor(10, 12, 4).random_(0, 200) / 200,\n",
    "       'labels':  torch.LongTensor(10, 12).random_(1, 21),\n",
    "    }\n",
    "\n",
    "    preds_loc_delta, preds_conf, anchors = preds\n",
    "    gt_boxes = targets['boxes']\n",
    "    labels = targets['labels']\n"
   ]
  },
  {
   "cell_type": "markdown",
   "metadata": {},
   "source": [
    "# self.box_similarity(gt_boxes, anchors)\n",
    "- Iou_mat by gt_box vs anchors "
   ]
  },
  {
   "cell_type": "code",
   "execution_count": 98,
   "metadata": {},
   "outputs": [],
   "source": [
    "def box_similarity(truths, anchors):\n",
    "    IoUs_mat = box_ops.box_iou(truths, anchors)\n",
    "    \n",
    "    return IoUs_mat"
   ]
  },
  {
   "cell_type": "code",
   "execution_count": 104,
   "metadata": {},
   "outputs": [
    {
     "name": "stdout",
     "output_type": "stream",
     "text": [
      "torch.Size([12]) torch.Size([12, 4]) torch.Size([20, 4])\n"
     ]
    }
   ],
   "source": [
    "l = labels[0][:]\n",
    "b = gt_boxes[0][:, :]\n",
    "b[:, 2:] += b[:, :2]\n",
    "anchors[:, 2:] += anchors[:, :2]\n",
    "print(l.shape, b.shape, anchors.shape)\n",
    "\n",
    "mqm = box_similarity(b, anchors)\n",
    "\n",
    "# (obj_N, anchors_N)\n",
    "# obj_N.max <- mqm.max(dim=1)\n",
    "# anchor_N.max <- mqm.max(dim=0)"
   ]
  },
  {
   "cell_type": "markdown",
   "metadata": {},
   "source": [
    "# self.proposal_matcher"
   ]
  },
  {
   "cell_type": "code",
   "execution_count": 101,
   "metadata": {},
   "outputs": [],
   "source": [
    "class Matcher(object):\n",
    "    BELOW_LOW_THRESHOLD = -1\n",
    "    BETWEEN_THRESHOLDS = -2\n",
    "\n",
    "    def __init__(self, high_threshold, low_threshold, allow_low_quality_matches=False):\n",
    "        assert low_threshold <= high_threshold\n",
    "        self.high_threshold = high_threshold\n",
    "        self.low_threshold = low_threshold\n",
    "        self.allow_low_quality_matches = allow_low_quality_matches\n",
    "\n",
    "    def __call__(self, match_quality_matrix):\n",
    "        matched_vals, matches = match_quality_matrix.max(dim=0)\n",
    "\n",
    "        if self.allow_low_quality_matches:\n",
    "            all_matches = matches.clone()\n",
    "            \n",
    "        below_low_threshold = matched_vals < self.low_threshold\n",
    "        between_thresholds = (matched_vals >= self.low_threshold) & ( matched_vals < self.high_threshold )\n",
    "\n",
    "        matches[below_low_threshold] = Matcher.BELOW_LOW_THRESHOLD\n",
    "        matches[between_thresholds] = Matcher.BETWEEN_THRESHOLDS\n",
    "        \n",
    "        if self.allow_low_quality_matches:\n",
    "            self.set_low_quality_matches_(matches, all_matches, match_quality_matrix)\n",
    "\n",
    "        return matches\n",
    "\n",
    "    def set_low_quality_matches_(self, matches, all_matches, match_quality_matrix):\n",
    "        highest_quality_foreach_gt, hoge = match_quality_matrix.max(dim=1)\n",
    "        gt_pred_pairs_of_highest_quality = torch.nonzero( match_quality_matrix == highest_quality_foreach_gt[:, None] )\n",
    "\n",
    "        pred_inds_to_update = gt_pred_pairs_of_highest_quality[:, 1]\n",
    "        matches[pred_inds_to_update] = all_matches[pred_inds_to_update]\n",
    "        "
   ]
  },
  {
   "cell_type": "code",
   "execution_count": 114,
   "metadata": {},
   "outputs": [
    {
     "name": "stdout",
     "output_type": "stream",
     "text": [
      "tensor([ 8, -1, -2, -2, -2, -2,  6, 11, -2,  4,  1, -2, -2, -2, -2, -2,  2, -2,\n",
      "         9, -2])\n",
      "tensor([ 8, 18,  2, 15,  3,  2, 12, 12, 13,  2,  7, 17])\n",
      "tensor([13,  0,  0,  0,  0,  0, 12, 17,  0,  3, 18,  0,  0,  0,  0,  0,  2,  0,\n",
      "         2,  0])\n"
     ]
    }
   ],
   "source": [
    "max_tresh = .7\n",
    "min_tresh = .3\n",
    "match = Matcher(max_tresh, min_tresh, allow_low_quality_matches=True)\n",
    "\n",
    "mqm_ids = match(mqm)\n",
    "matched_gt_boxes = anchors[mqm_ids.clamp(min=0)]\n",
    "\n",
    "print(mqm_ids)\n",
    "print(l)\n",
    "bg_ind = mqm_ids < 0\n",
    "matched_label = l[mqm_ids]\n",
    "matched_label[bg_ind] = 0\n",
    "print(matched_label)"
   ]
  },
  {
   "cell_type": "code",
   "execution_count": 55,
   "metadata": {},
   "outputs": [
    {
     "data": {
      "text/plain": [
       "tensor([[0.8174, 0.6254, 0.7831, 0.7430, 0.7154, 0.3022, 0.4388, 0.6559, 0.6186,\n",
       "         0.5114],\n",
       "        [0.8174, 0.6254, 0.7831, 0.7430, 0.7154, 0.3022, 0.4388, 0.6559, 0.6186,\n",
       "         0.5114]])"
      ]
     },
     "execution_count": 55,
     "metadata": {},
     "output_type": "execute_result"
    }
   ],
   "source": [
    "hoge = torch.FloatTensor([[0.8508, 0.7609, 0.8174, 0.6254, 0.7831, 0.7430, 0.7154, 0.3022, 0.4388,\n",
    "        0.6559, 0.6186, 0.5114], [0.8508, 0.7609, 0.8174, 0.6254, 0.7831, 0.7430, 0.7154, 0.3022, 0.4388,\n",
    "        0.6559, 0.6186, 0.5114]])\n",
    "hoge[:, ] # 転置処理"
   ]
  },
  {
   "cell_type": "markdown",
   "metadata": {},
   "source": [
    "# compute loss"
   ]
  },
  {
   "cell_type": "code",
   "execution_count": 148,
   "metadata": {},
   "outputs": [],
   "source": [
    "def log_sum_exp(x):\n",
    "    \"\"\"Utility function for computing log_sum_exp while determining\n",
    "    This will be used to determine unaveraged confidence loss across\n",
    "    all examples in a batch.\n",
    "    Args:\n",
    "        x (Variable(tensor)): conf_preds from conf layers\n",
    "    \"\"\"\n",
    "    x_max = x.data.max()\n",
    "    return torch.log(torch.sum(torch.exp(x-x_max), 1, keepdim=True)) + x_max"
   ]
  },
  {
   "cell_type": "code",
   "execution_count": 275,
   "metadata": {},
   "outputs": [],
   "source": [
    "    def compute_loss(preds_loc, preds_conf, match_gt_box, match_gt_label, negapos_ratio=3, device='cpu'):\n",
    "        pos_anchors = match_gt_label > 0 # [B, A]\n",
    "        num_batch = preds_loc.shape[0] # B\n",
    "        num_anchor = preds_loc.shape[1]\n",
    "\n",
    "        # loss loc\n",
    "        loc_pos_idx = pos_anchors.unsqueeze(pos_anchors.dim()).expand_as(preds_loc) # [B, A, 4]\n",
    "        loss_loc = F.smooth_l1_loss(preds_loc[loc_pos_idx].view(-1, 4), match_gt_box[loc_pos_idx].view(-1, 4)) # [BxA, 4], [BxA, 4]\n",
    "\n",
    "        # loss conf\n",
    "        num_pos = pos_anchors.long().sum(dim=1, keepdim=True)\n",
    "        num_hard_nega = negapos_ratio * num_pos\n",
    "        \n",
    "        cross_entropy = nn.CrossEntropyLoss(reduce=False)\n",
    "        loss_conf_all = cross_entropy(preds_conf.view(-1, 21), match_gt_label.view(-1))\n",
    "        loss_conf_all = loss_conf_all.view(num_batch, -1)\n",
    "        \n",
    "        #Hard Negative Mining\n",
    "        loss_conf_pos = loss_conf_all[pos_anchors].sum()        \n",
    "        loss_conf_neg = loss_conf_all.clone()\n",
    "        loss_conf_neg[pos_anchors] = 0\n",
    "        loss_conf_neg, _ = loss_conf_neg.sort(1, descending=True)\n",
    "        \n",
    "        hardness_rank = torch.LongTensor(range(num_anchor)).unsqueeze(0).expand_as(loss_conf_neg).to(device)\n",
    "        hard_negas = hardness_rank < num_hard_nega.unsqueeze(1)\n",
    "        print(hard_negas.shape, loss_conf_neg.shape)\n",
    "        \n",
    "        loss_conf_hard_neg = loss_conf_neg[hard_negas].sum()\n",
    "        \n",
    "        # total loss\n",
    "        N = num_pos.sum()\n",
    "        loss_conf = (loss_conf_neg + loss_conf_pos) / N\n",
    "        loss_loc /= N\n",
    "        \n",
    "        return loss_loc, loss_conf\n"
   ]
  },
  {
   "cell_type": "code",
   "execution_count": 276,
   "metadata": {},
   "outputs": [
    {
     "name": "stdout",
     "output_type": "stream",
     "text": [
      "torch.Size([5, 15, 4]) torch.Size([5, 15, 4])\n",
      "torch.Size([5, 15]) torch.Size([5, 15, 21])\n",
      "torch.Size([5, 5, 15]) torch.Size([5, 15])\n"
     ]
    },
    {
     "name": "stderr",
     "output_type": "stream",
     "text": [
      "/Users/miyasatotakaya/.local/share/virtualenvs/detection-IO7VGoJt/lib/python3.6/site-packages/torch/nn/_reduction.py:46: UserWarning: size_average and reduce args will be deprecated, please use reduction='none' instead.\n",
      "  warnings.warn(warning.format(ret))\n"
     ]
    },
    {
     "ename": "IndexError",
     "evalue": "too many indices for tensor of dimension 2",
     "output_type": "error",
     "traceback": [
      "\u001b[0;31m---------------------------------------------------------------------------\u001b[0m",
      "\u001b[0;31mIndexError\u001b[0m                                Traceback (most recent call last)",
      "\u001b[0;32m<ipython-input-276-3ae7b9c62da0>\u001b[0m in \u001b[0;36m<module>\u001b[0;34m\u001b[0m\n\u001b[1;32m     10\u001b[0m \u001b[0mprint\u001b[0m\u001b[0;34m(\u001b[0m\u001b[0mloc_t\u001b[0m\u001b[0;34m.\u001b[0m\u001b[0mshape\u001b[0m\u001b[0;34m,\u001b[0m \u001b[0mloc_delta\u001b[0m\u001b[0;34m.\u001b[0m\u001b[0mshape\u001b[0m\u001b[0;34m)\u001b[0m\u001b[0;34m\u001b[0m\u001b[0m\n\u001b[1;32m     11\u001b[0m \u001b[0mprint\u001b[0m\u001b[0;34m(\u001b[0m\u001b[0mconf_t\u001b[0m\u001b[0;34m.\u001b[0m\u001b[0mshape\u001b[0m\u001b[0;34m,\u001b[0m \u001b[0mconf_p\u001b[0m\u001b[0;34m.\u001b[0m\u001b[0mshape\u001b[0m\u001b[0;34m)\u001b[0m\u001b[0;34m\u001b[0m\u001b[0m\n\u001b[0;32m---> 12\u001b[0;31m \u001b[0mloc\u001b[0m\u001b[0;34m,\u001b[0m \u001b[0mconf\u001b[0m \u001b[0;34m=\u001b[0m \u001b[0mcompute_loss\u001b[0m\u001b[0;34m(\u001b[0m\u001b[0mloc_delta\u001b[0m\u001b[0;34m,\u001b[0m \u001b[0mconf_p\u001b[0m\u001b[0;34m,\u001b[0m \u001b[0mloc_t\u001b[0m\u001b[0;34m,\u001b[0m \u001b[0mconf_t\u001b[0m\u001b[0;34m)\u001b[0m\u001b[0;34m\u001b[0m\u001b[0m\n\u001b[0m",
      "\u001b[0;32m<ipython-input-275-727148bb7dd4>\u001b[0m in \u001b[0;36mcompute_loss\u001b[0;34m(preds_loc, preds_conf, match_gt_box, match_gt_label, negapos_ratio, device)\u001b[0m\n\u001b[1;32m     26\u001b[0m     \u001b[0mprint\u001b[0m\u001b[0;34m(\u001b[0m\u001b[0mhard_negas\u001b[0m\u001b[0;34m.\u001b[0m\u001b[0mshape\u001b[0m\u001b[0;34m,\u001b[0m \u001b[0mloss_conf_neg\u001b[0m\u001b[0;34m.\u001b[0m\u001b[0mshape\u001b[0m\u001b[0;34m)\u001b[0m\u001b[0;34m\u001b[0m\u001b[0m\n\u001b[1;32m     27\u001b[0m \u001b[0;34m\u001b[0m\u001b[0m\n\u001b[0;32m---> 28\u001b[0;31m     \u001b[0mloss_conf_neg\u001b[0m \u001b[0;34m=\u001b[0m \u001b[0mloss_conf_neg\u001b[0m\u001b[0;34m[\u001b[0m\u001b[0mhard_negas\u001b[0m\u001b[0;34m]\u001b[0m\u001b[0;34m.\u001b[0m\u001b[0msum\u001b[0m\u001b[0;34m(\u001b[0m\u001b[0;34m)\u001b[0m\u001b[0;34m\u001b[0m\u001b[0m\n\u001b[0m\u001b[1;32m     29\u001b[0m \u001b[0;34m\u001b[0m\u001b[0m\n\u001b[1;32m     30\u001b[0m     \u001b[0;31m# total loss\u001b[0m\u001b[0;34m\u001b[0m\u001b[0;34m\u001b[0m\u001b[0m\n",
      "\u001b[0;31mIndexError\u001b[0m: too many indices for tensor of dimension 2"
     ]
    }
   ],
   "source": [
    "# test_load\n",
    "conf_p = torch.FloatTensor(5, 15, 21).random_(0, 100) / 100\n",
    "loc_delta = torch.FloatTensor(5, 15, 4).random_(0, 200) / 200\n",
    "loc_delta[:, :, 2:] += loc_delta[:, :, :2]\n",
    "\n",
    "conf_t = torch.LongTensor(5, 15).random_(0, 21)\n",
    "loc_t = torch.FloatTensor(5, 15, 4).random_(0, 200) / 200\n",
    "loc_t[:, :, 2:] += loc_t[:, :, :2]\n",
    "\n",
    "print(loc_t.shape, loc_delta.shape)\n",
    "print(conf_t.shape, conf_p.shape)\n",
    "loc, conf = compute_loss(loc_delta, conf_p, loc_t, conf_t)"
   ]
  },
  {
   "cell_type": "code",
   "execution_count": 266,
   "metadata": {},
   "outputs": [
    {
     "name": "stdout",
     "output_type": "stream",
     "text": [
      "range(0, 10)\n"
     ]
    }
   ],
   "source": [
    "pos_anchors = torch.Tensor(10, 4).random_(0, 2) # [B, A]\n",
    "num_anchor = pos_anchors.shape[0]\n",
    "hoge = range(num_anchor)\n",
    "print(hoge)"
   ]
  },
  {
   "cell_type": "code",
   "execution_count": null,
   "metadata": {},
   "outputs": [],
   "source": []
  }
 ],
 "metadata": {
  "kernelspec": {
   "display_name": "Python 3",
   "language": "python",
   "name": "python3"
  },
  "language_info": {
   "codemirror_mode": {
    "name": "ipython",
    "version": 3
   },
   "file_extension": ".py",
   "mimetype": "text/x-python",
   "name": "python",
   "nbconvert_exporter": "python",
   "pygments_lexer": "ipython3",
   "version": "3.6.3"
  }
 },
 "nbformat": 4,
 "nbformat_minor": 2
}
